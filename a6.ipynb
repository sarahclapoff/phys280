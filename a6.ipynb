{
 "cells": [
  {
   "cell_type": "markdown",
   "metadata": {},
   "source": [
    "#  Physics 280: A6"
   ]
  },
  {
   "cell_type": "markdown",
   "metadata": {},
   "source": [
    "### 1. Qubit chaining for 3-SAT"
   ]
  },
  {
   "cell_type": "markdown",
   "metadata": {},
   "source": [
    "In class we described a minor-embedding procedure to\n",
    "implement 3-qubit 3-SAT (logical qubits a, b, c) with 4 physical qubits (q0, q1, q4, q5).\n",
    "The procedure assumed b = q0 = q5 so that it required q0 and q5 to be “chained” in\n",
    "the same state. We concluded that the required QUBO was:\n",
    "\n",
    "E(q) = 1/3(q0 + q5) − 1/3(q1 + q4) + 2/3(q0q4 + q1q4 + q1q5) − (q0q5). \n",
    "\n",
    "Using your “classical” CPU, write down a python code that generates the energy table\n",
    "for all values of q and explain that this QUBO does indeed implement 3-SAT as the\n",
    "lowest energy state of the quantum system.\n",
    "Hint: Use the sampler ExactSolver from dimod to generate a list of all possibilities.\n"
   ]
  },
  {
   "cell_type": "code",
   "execution_count": 2,
   "metadata": {},
   "outputs": [
    {
     "ename": "ModuleNotFoundError",
     "evalue": "No module named 'dimod'",
     "output_type": "error",
     "traceback": [
      "\u001b[1;31m---------------------------------------------------------------------------\u001b[0m",
      "\u001b[1;31mModuleNotFoundError\u001b[0m                       Traceback (most recent call last)",
      "\u001b[1;32m<ipython-input-2-c77d6125dbac>\u001b[0m in \u001b[0;36m<module>\u001b[1;34m\u001b[0m\n\u001b[0;32m      1\u001b[0m \u001b[1;31m#import dwave stuff\u001b[0m\u001b[1;33m\u001b[0m\u001b[1;33m\u001b[0m\u001b[1;33m\u001b[0m\u001b[0m\n\u001b[1;32m----> 2\u001b[1;33m \u001b[1;32mimport\u001b[0m \u001b[0mdimod\u001b[0m\u001b[1;33m\u001b[0m\u001b[1;33m\u001b[0m\u001b[0m\n\u001b[0m",
      "\u001b[1;31mModuleNotFoundError\u001b[0m: No module named 'dimod'"
     ]
    }
   ],
   "source": [
    "#import dwave stuff\n",
    "import dimod"
   ]
  },
  {
   "cell_type": "code",
   "execution_count": 6,
   "metadata": {
    "scrolled": true
   },
   "outputs": [
    {
     "ename": "NameError",
     "evalue": "name 'dimod' is not defined",
     "output_type": "error",
     "traceback": [
      "\u001b[1;31m---------------------------------------------------------------------------\u001b[0m",
      "\u001b[1;31mNameError\u001b[0m                                 Traceback (most recent call last)",
      "\u001b[1;32m<ipython-input-6-50bb9ed6dab1>\u001b[0m in \u001b[0;36m<module>\u001b[1;34m\u001b[0m\n\u001b[0;32m     15\u001b[0m \u001b[1;33m\u001b[0m\u001b[0m\n\u001b[0;32m     16\u001b[0m \u001b[1;31m#implement on \"classical\" exact solver\u001b[0m\u001b[1;33m\u001b[0m\u001b[1;33m\u001b[0m\u001b[1;33m\u001b[0m\u001b[0m\n\u001b[1;32m---> 17\u001b[1;33m \u001b[0mclassical_result\u001b[0m \u001b[1;33m=\u001b[0m \u001b[0mdimod\u001b[0m\u001b[1;33m.\u001b[0m\u001b[0mExactSolver\u001b[0m\u001b[1;33m(\u001b[0m\u001b[1;33m)\u001b[0m\u001b[1;33m.\u001b[0m\u001b[0msampleset\u001b[0m\u001b[1;33m(\u001b[0m\u001b[0mQ\u001b[0m\u001b[1;33m)\u001b[0m\u001b[1;33m\u001b[0m\u001b[1;33m\u001b[0m\u001b[0m\n\u001b[0m\u001b[0;32m     18\u001b[0m \u001b[0mprint\u001b[0m\u001b[1;33m(\u001b[0m\u001b[0mclassical_result\u001b[0m\u001b[1;33m)\u001b[0m\u001b[1;33m\u001b[0m\u001b[1;33m\u001b[0m\u001b[0m\n",
      "\u001b[1;31mNameError\u001b[0m: name 'dimod' is not defined"
     ]
    }
   ],
   "source": [
    "#like normal implementation except using cpu (exactsolver) instead of qpu (the other sampler)\n",
    "#use chaining to lock q0,q5 and set biases and strengths\n",
    "\n",
    "#look at it classically, map to chimera using 4 qubits (lecture notes 'Minor Embedding')\n",
    "#since b=q0=q5 do i need all 4 or just three? Doing it classically so we don't have to worry about chaining\n",
    "#look at blue handwriting in notes for equation (q0=q5)\n",
    "\n",
    "#(format it nice from notes) bias of a,c = -1/3; bias of b = 1/3\n",
    "biases = {(0,0): -1/3, (1,1): -1/3, (4,4): -1/3} #, (5,5): 1/3}\n",
    "#(5,0) should have a high strength (so really low number) bc they're bonded together\n",
    "strengths = {(0,4): 2/3, (1,4): 2/3, (1,0): 2/3} #, (0,5): -1}\n",
    "\n",
    "#dictionary of qubit biases and strengths\n",
    "Q = dict(biases)\n",
    "Q.update(strengths)\n",
    "\n",
    "#implement on \"classical\" exact solver\n",
    "classical_result = dimod.ExactSolver().sample_qubo(Q)\n",
    "print(classical_result)"
   ]
  },
  {
   "cell_type": "markdown",
   "metadata": {},
   "source": [
    "Energy Table (all possible values of q) From Leap IDE:\n",
    "\n",
    "() q0, q1,  q4,  energy,  num_oc.\n",
    "\n",
    "1:  1,  0,  0, -0.333,       1\n",
    "\n",
    "3:  0,  1,  0, -0.333,       1\n",
    "\n",
    "7:  0,  0,  1, -0.333,       1\n",
    "\n",
    "0:  0,  0,  0,    0.0,       1\n",
    "\n",
    "2:  1,  1,  0,    0.0,       1\n",
    "\n",
    "4:  0,  1,  1,    0.0,       1\n",
    "\n",
    "6:  1,  0,  1,    0.0,       1\n",
    "\n",
    "5:  1,  1,  1,    1.0,       1\n",
    "\n",
    "['BINARY', 8 rows, 8 samples, 3 variables]\n",
    "\n",
    "From the above table, the lowest energy state of the quantum system is -0.333 when either q0, q1, or q4 equals 1, and the other two equal zero. That is, the lowest energy state corresponds to when one of the logical qubits (a,b,c) is satisfied and the other two are not. By definition, that is the solution to a 3 qubit 3-SAT problem. Therefore, this QUBO does implement 3-SAT as the lowest energy state of the quantum system. \n",
    "\n",
    "Furthermore, We can show this is true by manually checking all vales of z = (a,b,c) in E(z) = (a + b + c - 1) and showing that E(z)=0 if and only if z = [(0,0,1), (0,1,0), (1,0,0)]"
   ]
  },
  {
   "cell_type": "markdown",
   "metadata": {},
   "source": [
    "## 2. 10-qubit 3-SAT"
   ]
  },
  {
   "cell_type": "markdown",
   "metadata": {},
   "source": [
    "Implement a 10-qubit 3-SAT subject to the following eight clauses:\n",
    "\n",
    "C1(0, 1, 2), C2(1, 2, 3), C3(2, 3, 4), C4(3, 4, 5), C5(4, 5, 6), C6(5, 6, 7), C7(6, 7, 8),\n",
    "C8(7, 8, 9).\n",
    "\n",
    "Note that ’0’, ’1’, ’2’ , ... represent binary variables, and each\n",
    "clause is satisfied (True) if only one of the three variables is 1 and the other two are 0.\n",
    "\n",
    "(a) Run the brute force function ExactSolver to find all possible answers.\n",
    "\n",
    "(b) Run the algorithm in the QPU. How many correct answers do you get?\n",
    "\n",
    "Hint: Use dwavebinarycsp. Define a function sat3(a,b,c) that returns\n",
    "True when a,b,c satisfies the constraint, and add each clause using e.g.\n",
    "csp.add constraint(sat3, [’0’, ’1’, ’2’]). Apart from this, the code is quite\n",
    "similar to the map coloring code."
   ]
  },
  {
   "cell_type": "code",
   "execution_count": null,
   "metadata": {},
   "outputs": [],
   "source": [
    "#import packages\n",
    "import dwavebinarycsp\n",
    "from dwave.system import DWaveSampler, EmbeddingComposite\n",
    "import networkx as nx\n",
    "import matplotlib.pyplot as plt\n",
    "import dwave.inspector\n",
    "\n"
   ]
  }
 ],
 "metadata": {
  "kernelspec": {
   "display_name": "Python 3",
   "language": "python",
   "name": "python3"
  },
  "language_info": {
   "codemirror_mode": {
    "name": "ipython",
    "version": 3
   },
   "file_extension": ".py",
   "mimetype": "text/x-python",
   "name": "python",
   "nbconvert_exporter": "python",
   "pygments_lexer": "ipython3",
   "version": "3.7.4"
  }
 },
 "nbformat": 4,
 "nbformat_minor": 2
}
