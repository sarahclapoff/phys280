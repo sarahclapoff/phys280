{
 "cells": [
  {
   "cell_type": "markdown",
   "metadata": {},
   "source": [
    "# Qubit chaining for 3-SAT"
   ]
  },
  {
   "cell_type": "markdown",
   "metadata": {},
   "source": [
    "In class we described a minor-embedding procedure to\n",
    "implement 3-qubit 3-SAT (logical qubits a, b, c) with 4 physical qubits (q0, q1, q4, q5).\n",
    "The procedure assumed b = q0 = q5 so that it required q0 and q5 to be “chained” in\n",
    "the same state. We concluded that the required QUBO was:\n",
    "\n",
    "E(q) = 1/3(q0 + q5) − 1/3(q1 + q4) + 2/3(q0q4 + q1q4 + q1q5) − (q0q5). \n",
    "\n",
    "Using your “classical” CPU, write down a python code that generates the energy table\n",
    "for all values of q and explain that this QUBO does indeed implement 3-SAT as the\n",
    "lowest energy state of the quantum system.\n",
    "Hint: Use the sampler ExactSolver from dimod to generate a list of all possibilities.\n"
   ]
  },
  {
   "cell_type": "code",
   "execution_count": null,
   "metadata": {},
   "outputs": [],
   "source": []
  }
 ],
 "metadata": {
  "kernelspec": {
   "display_name": "Python 3",
   "language": "python",
   "name": "python3"
  },
  "language_info": {
   "codemirror_mode": {
    "name": "ipython",
    "version": 3
   },
   "file_extension": ".py",
   "mimetype": "text/x-python",
   "name": "python",
   "nbconvert_exporter": "python",
   "pygments_lexer": "ipython3",
   "version": "3.7.4"
  }
 },
 "nbformat": 4,
 "nbformat_minor": 2
}
