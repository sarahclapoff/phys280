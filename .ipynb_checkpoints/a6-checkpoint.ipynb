{
 "cells": [
  {
   "cell_type": "markdown",
   "metadata": {},
   "source": [
    "#  Physics 280: A6"
   ]
  },
  {
   "cell_type": "markdown",
   "metadata": {},
   "source": [
    "# 1. Qubit chaining for 3-SAT"
   ]
  },
  {
   "cell_type": "markdown",
   "metadata": {},
   "source": [
    "In class we described a minor-embedding procedure to\n",
    "implement 3-qubit 3-SAT (logical qubits a, b, c) with 4 physical qubits (q0, q1, q4, q5).\n",
    "The procedure assumed b = q0 = q5 so that it required q0 and q5 to be “chained” in\n",
    "the same state. We concluded that the required QUBO was:\n",
    "\n",
    "E(q) = 1/3(q0 + q5) − 1/3(q1 + q4) + 2/3(q0q4 + q1q4 + q1q5) − (q0q5). \n",
    "\n",
    "Using your “classical” CPU, write down a python code that generates the energy table\n",
    "for all values of q and explain that this QUBO does indeed implement 3-SAT as the\n",
    "lowest energy state of the quantum system.\n",
    "Hint: Use the sampler ExactSolver from dimod to generate a list of all possibilities.\n"
   ]
  },
  {
   "cell_type": "code",
   "execution_count": 2,
   "metadata": {},
   "outputs": [
    {
     "ename": "ModuleNotFoundError",
     "evalue": "No module named 'dimod'",
     "output_type": "error",
     "traceback": [
      "\u001b[1;31m---------------------------------------------------------------------------\u001b[0m",
      "\u001b[1;31mModuleNotFoundError\u001b[0m                       Traceback (most recent call last)",
      "\u001b[1;32m<ipython-input-2-c77d6125dbac>\u001b[0m in \u001b[0;36m<module>\u001b[1;34m\u001b[0m\n\u001b[0;32m      1\u001b[0m \u001b[1;31m#import dwave stuff\u001b[0m\u001b[1;33m\u001b[0m\u001b[1;33m\u001b[0m\u001b[1;33m\u001b[0m\u001b[0m\n\u001b[1;32m----> 2\u001b[1;33m \u001b[1;32mimport\u001b[0m \u001b[0mdimod\u001b[0m\u001b[1;33m\u001b[0m\u001b[1;33m\u001b[0m\u001b[0m\n\u001b[0m",
      "\u001b[1;31mModuleNotFoundError\u001b[0m: No module named 'dimod'"
     ]
    }
   ],
   "source": [
    "#import dwave stuff\n",
    "import dimod"
   ]
  },
  {
   "cell_type": "code",
   "execution_count": 6,
   "metadata": {},
   "outputs": [
    {
     "ename": "NameError",
     "evalue": "name 'dimod' is not defined",
     "output_type": "error",
     "traceback": [
      "\u001b[1;31m---------------------------------------------------------------------------\u001b[0m",
      "\u001b[1;31mNameError\u001b[0m                                 Traceback (most recent call last)",
      "\u001b[1;32m<ipython-input-6-50bb9ed6dab1>\u001b[0m in \u001b[0;36m<module>\u001b[1;34m\u001b[0m\n\u001b[0;32m     15\u001b[0m \u001b[1;33m\u001b[0m\u001b[0m\n\u001b[0;32m     16\u001b[0m \u001b[1;31m#implement on \"classical\" exact solver\u001b[0m\u001b[1;33m\u001b[0m\u001b[1;33m\u001b[0m\u001b[1;33m\u001b[0m\u001b[0m\n\u001b[1;32m---> 17\u001b[1;33m \u001b[0mclassical_result\u001b[0m \u001b[1;33m=\u001b[0m \u001b[0mdimod\u001b[0m\u001b[1;33m.\u001b[0m\u001b[0mExactSolver\u001b[0m\u001b[1;33m(\u001b[0m\u001b[1;33m)\u001b[0m\u001b[1;33m.\u001b[0m\u001b[0msampleset\u001b[0m\u001b[1;33m(\u001b[0m\u001b[0mQ\u001b[0m\u001b[1;33m)\u001b[0m\u001b[1;33m\u001b[0m\u001b[1;33m\u001b[0m\u001b[0m\n\u001b[0m\u001b[0;32m     18\u001b[0m \u001b[0mprint\u001b[0m\u001b[1;33m(\u001b[0m\u001b[0mclassical_result\u001b[0m\u001b[1;33m)\u001b[0m\u001b[1;33m\u001b[0m\u001b[1;33m\u001b[0m\u001b[0m\n",
      "\u001b[1;31mNameError\u001b[0m: name 'dimod' is not defined"
     ]
    }
   ],
   "source": [
    "#like normal implementation except using cpu (exactsolver) instead of qpu (the other sampler)\n",
    "#use chaining to lock q0,q5 and set biases and strengths\n",
    "\n",
    "#look at it classically, map to chimera using 4 qubits (lecture notes 'Minor Embedding')\n",
    "#since b=q0=q5 do i need all 4 or just three? I think all 4 bc still doing it through leap?\n",
    "\n",
    "#(format it nice from notes) bias of a,c = -1/3; bias of b = 1/3\n",
    "biases = {(0,0): 1/3, (1,1): -1/3, (4,4): -1/3, (5,5): 1/3}\n",
    "#(5,0) should have a high strength (so really low number) bc they're bonded together\n",
    "strengths = {(0,5): -1, (0,4): 2/3, (1,4): 2/3, (1,5): 2/3}\n",
    "\n",
    "#dictionary of qubit biases and strengths\n",
    "Q = dict(biases)\n",
    "Q.update(strengths)\n",
    "\n",
    "#implement on \"classical\" exact solver\n",
    "classical_result = dimod.ExactSolver().sampleset(Q)\n",
    "print(classical_result)"
   ]
  },
  {
   "cell_type": "code",
   "execution_count": null,
   "metadata": {},
   "outputs": [],
   "source": []
  }
 ],
 "metadata": {
  "kernelspec": {
   "display_name": "Python 3",
   "language": "python",
   "name": "python3"
  },
  "language_info": {
   "codemirror_mode": {
    "name": "ipython",
    "version": 3
   },
   "file_extension": ".py",
   "mimetype": "text/x-python",
   "name": "python",
   "nbconvert_exporter": "python",
   "pygments_lexer": "ipython3",
   "version": "3.7.4"
  }
 },
 "nbformat": 4,
 "nbformat_minor": 2
}
